{
 "cells": [
  {
   "cell_type": "markdown",
   "metadata": {},
   "source": [
    "# Evaluating Survival Models"
   ]
  },
  {
   "cell_type": "markdown",
   "metadata": {},
   "source": [
    "*scikit-survival* provides several performance metrics for evaluating survival models:\n",
    "\n",
    "* **Concordance Index (C-index)**: Measures the rank correlation between predicted risk scores and observed event times.\n",
    "  * [concordance_index_censored()](https://scikit-survival.readthedocs.io/en/latest/api/generated/sksurv.metrics.concordance_index_censored.html#sksurv.metrics.concordance_index_censored): Implements Harrell's estimator, which can be [optimistic with high censoring](#Bias-of-Harrell's-Concordance-Index).\n",
    "  * [concordance_index_ipcw()](https://scikit-survival.readthedocs.io/en/latest/api/generated/sksurv.metrics.concordance_index_ipcw.html#sksurv.metrics.concordance_index_ipcw): An inverse probability of censoring weighted (IPCW) alternative that provides a less biased estimate, especially with high censoring.\n",
    "* **Cumulative/Dynamic Area Under the ROC Curve (AUC)**:\n",
    "  * [cumulative_dynamic_auc()](https://scikit-survival.readthedocs.io/en/latest/api/generated/sksurv.metrics.cumulative_dynamic_auc.html#sksurv.metrics.cumulative_dynamic_auc): Extends the AUC to survival data, quantifying how well a model distinguishes subjects who experience an event by a given time from those who do not. It can handle time-dependent risk scores.\n",
    "* **Brier Score**: An extension of the mean squared error to right-censored data, assessing both discrimination and calibration based on a model's estimated survival functions.\n",
    "  * [brier_score()](https://scikit-survival.readthedocs.io/en/latest/api/generated/sksurv.metrics.brier_score.html#sksurv.metrics.brier_score): Computes the Brier score at specific time points.\n",
    "  * [integrated_brier_score()](https://scikit-survival.readthedocs.io/en/latest/api/generated/sksurv.metrics.integrated_brier_score.html#sksurv.metrics.integrated_brier_score): Provides an overall measure by integrating the Brier score over a range of time points."
   ]
  },
  {
   "cell_type": "markdown",
   "metadata": {},
   "source": [
    "![Overview of performance metrics available in scikit-survival](/_static/images/metrics-diagram.svg)"
   ]
  },
  {
   "cell_type": "markdown",
   "metadata": {},
   "source": [
    "The most frequently used evaluation metric of survival models is the concordance index (c index, c statistic). It is a measure of rank correlation between predicted risk scores $\\hat{f}$ and observed time points $y$ that is closely related to [Kendall’s τ](https://en.wikipedia.org/wiki/Kendall_rank_correlation_coefficient). It is defined as the ratio of correctly ordered (concordant) pairs to comparable pairs.\n",
    "Two samples $i$ and $j$ are comparable if the sample with lower observed time $y$ experienced an event, i.e., if $y_j > y_i$ and $\\delta_i = 1$, where $\\delta_i$ is a binary event indicator. A comparable pair $(i, j)$ is concordant if the estimated risk $\\hat{f}$ by a survival model  is higher for subjects with lower survival time, i.e., $\\hat{f}_i > \\hat{f}_j \\land y_j > y_i$, otherwise the pair is discordant.\n",
    "Harrell's estimator of the c index is implemented in [concordance_index_censored](https://scikit-survival.readthedocs.io/en/latest/api/generated/sksurv.metrics.concordance_index_censored.html#sksurv.metrics.concordance_index_censored).\n",
    "\n",
    "While Harrell's concordance index is easy to interpret and compute, it has some shortcomings:\n",
    "1. it has been shown that it is too optimistic with increasing amount of censoring [[1]](https://dx.doi.org/10.1002/sim.4154),\n",
    "2. it is not a useful measure of performance if a specific time range is of primary interest (e.g. predicting death within 2 years).\n",
    "\n",
    "Since version 0.8, scikit-survival supports an alternative estimator of the concordance\n",
    "index from right-censored survival data, implemented in [concordance_index_ipcw](https://scikit-survival.readthedocs.io/en/latest/api/generated/sksurv.metrics.concordance_index_ipcw.html#sksurv.metrics.concordance_index_ipcw), that addresses the first issue.\n",
    "\n",
    "The second point can be addressed by extending the well known receiver operating characteristic curve (ROC curve) to possibly censored survival times. Given a time point $t$, we can estimate how well a predictive model can distinguishing subjects who will experience an event by time $t$ (sensitivity) from those who will not (specificity). The function [cumulative_dynamic_auc](https://scikit-survival.readthedocs.io/en/latest/api/generated/sksurv.metrics.cumulative_dynamic_auc.html#sksurv.metrics.cumulative_dynamic_auc) implements an estimator of the cumulative/dynamic area under the ROC for a given list of time points.\n",
    "\n",
    "The [first part](#Bias-of-Harrell's-Concordance-Index) of this notebook will illustrate the first issue with simulated survival data, while the [second part](#Time-dependent-Area-under-the-ROC) will focus on the time-dependent area under the ROC applied to data from a real study. Finally, [part three](#Time-dependent-Brier-Score) will discuss the time-dependent Brier score, which is an extension of the mean squared\n",
    "error to [right-censored data](https://scikit-survival.readthedocs.io/en/latest/user_guide/understanding_predictions.html#what-is-survival-analysis)."
   ]
  },
  {
   "cell_type": "code",
   "execution_count": 1,
   "metadata": {},
   "outputs": [],
   "source": [
    "import matplotlib.pyplot as plt\n",
    "import numpy as np\n",
    "\n",
    "%matplotlib inline\n",
    "import pandas as pd\n",
    "from sklearn import set_config\n",
    "from sklearn.impute import SimpleImputer\n",
    "from sklearn.model_selection import train_test_split\n",
    "from sklearn.pipeline import make_pipeline\n",
    "\n",
    "from sksurv.datasets import load_flchain, load_gbsg2\n",
    "from sksurv.functions import StepFunction\n",
    "from sksurv.linear_model import CoxnetSurvivalAnalysis, CoxPHSurvivalAnalysis\n",
    "from sksurv.metrics import (\n",
    "    concordance_index_censored,\n",
    "    concordance_index_ipcw,\n",
    "    cumulative_dynamic_auc,\n",
    "    integrated_brier_score,\n",
    ")\n",
    "from sksurv.nonparametric import kaplan_meier_estimator\n",
    "from sksurv.preprocessing import OneHotEncoder, encode_categorical\n",
    "from sksurv.util import Surv\n",
    "\n",
    "set_config(display=\"text\")  # displays text representation of estimators\n",
    "plt.rcParams[\"figure.figsize\"] = [7.2, 4.8]"
   ]
  },
  {
   "cell_type": "markdown",
   "metadata": {},
   "source": [
    "## Bias of Harrell's Concordance Index\n",
    "\n",
    "Harrell's concordance index is known to be biased upwards if the amount of censoring in the test data is high [[1]](https://dx.doi.org/10.1002/sim.4154). [Uno et al](https://dx.doi.org/10.1002/sim.4154) proposed an alternative estimator of the concordance index that behaves better in such situations.\n",
    "In this section, we are going to apply [concordance_index_censored](https://scikit-survival.readthedocs.io/en/latest/api/generated/sksurv.metrics.concordance_index_censored.html#sksurv.metrics.concordance_index_censored)\n",
    "and [concordance_index_ipcw](https://scikit-survival.readthedocs.io/en/latest/api/generated/sksurv.metrics.concordance_index_ipcw.html#sksurv.metrics.concordance_index_ipcw) to synthetic survival data and compare their results.\n",
    "\n",
    "### Simulation Study\n",
    "\n",
    "We are generating a synthetic biomarker by sampling from a standard normal distribution. For a given hazard ratio, we compute the associated (actual) survival time by drawing from an exponential distribution. The censoring times were generated from a uniform independent distribution $\\textrm{Uniform}(0,\\gamma)$, where we choose $\\gamma$ to produce different amounts of censoring.\n",
    "\n",
    "Since Uno's estimator is based on inverse probability of censoring weighting, we need to estimate the probability of being censored at a given time point. This probability needs to be non-zero for all observed time points. Therefore, we restrict the test data to all samples with observed time lower than the maximum event time $\\tau$. Usually, one would use the `tau` argument of `concordance_index_ipcw` for this, but we apply the selection before to pass identical inputs to `concordance_index_censored` and `concordance_index_ipcw`.\n",
    "The estimates of the concordance index are therefore restricted to the interval $[0, \\tau]$."
   ]
  },
  {
   "cell_type": "code",
   "execution_count": 2,
   "metadata": {},
   "outputs": [],
   "source": [
    "import scipy.optimize as opt\n",
    "\n",
    "\n",
    "def generate_marker(n_samples, hazard_ratio, baseline_hazard, rnd):\n",
    "    # create synthetic risk score\n",
    "    X = rnd.standard_normal(size=(n_samples, 1))\n",
    "\n",
    "    # create linear model\n",
    "    hazard_ratio = np.array([hazard_ratio])\n",
    "    logits = np.dot(X, np.log(hazard_ratio))\n",
    "\n",
    "    # draw actual survival times from exponential distribution,\n",
    "    # refer to Bender et al. (2005), https://doi.org/10.1002/sim.2059\n",
    "    u = rnd.uniform(size=n_samples)\n",
    "    time_event = -np.log(u) / (baseline_hazard * np.exp(logits))\n",
    "\n",
    "    # compute the actual concordance in the absence of censoring\n",
    "    X = np.squeeze(X)\n",
    "    actual = concordance_index_censored(np.ones(n_samples, dtype=bool), time_event, X)\n",
    "    return X, time_event, actual[0]\n",
    "\n",
    "\n",
    "def generate_survival_data(n_samples, hazard_ratio, baseline_hazard, percentage_cens, rnd):\n",
    "    X, time_event, actual_c = generate_marker(n_samples, hazard_ratio, baseline_hazard, rnd)\n",
    "\n",
    "    def get_observed_time(x):\n",
    "        [rnd_cens] = rnd.spawn(1)\n",
    "        # draw censoring times\n",
    "        time_censor = rnd_cens.uniform(high=x, size=n_samples)\n",
    "        event = time_event < time_censor\n",
    "        time = np.where(event, time_event, time_censor)\n",
    "        return event, time\n",
    "\n",
    "    def censoring_amount(x):\n",
    "        event, _ = get_observed_time(x)\n",
    "        cens = 1.0 - event.sum() / event.shape[0]\n",
    "        return (cens - percentage_cens) ** 2\n",
    "\n",
    "    # search for upper limit to obtain the desired censoring amount\n",
    "    res = opt.minimize_scalar(censoring_amount, method=\"bounded\", bounds=(0, time_event.max()))\n",
    "\n",
    "    # compute observed time\n",
    "    event, time = get_observed_time(res.x)\n",
    "\n",
    "    # upper time limit such that the probability\n",
    "    # of being censored is non-zero for `t > tau`\n",
    "    tau = time[event].max()\n",
    "    y = Surv.from_arrays(event=event, time=time)\n",
    "    mask = time < tau\n",
    "    X_test = X[mask]\n",
    "    y_test = y[mask]\n",
    "\n",
    "    return X_test, y_test, y, actual_c\n",
    "\n",
    "\n",
    "def simulation(n_samples, hazard_ratio, n_repeats=100):\n",
    "    measures = (\n",
    "        \"censoring\",\n",
    "        \"Harrel's C\",\n",
    "        \"Uno's C\",\n",
    "    )\n",
    "    data_mean = {}\n",
    "    data_std = {}\n",
    "    for measure in measures:\n",
    "        data_mean[measure] = []\n",
    "        data_std[measure] = []\n",
    "\n",
    "    rnd = np.random.default_rng(seed=20211229)\n",
    "    # iterate over different amount of censoring\n",
    "    for cens in (0.1, 0.25, 0.4, 0.5, 0.6, 0.7):\n",
    "        data = {\n",
    "            \"censoring\": [],\n",
    "            \"Harrel's C\": [],\n",
    "            \"Uno's C\": [],\n",
    "        }\n",
    "\n",
    "        # repeaditly perform simulation\n",
    "        for _ in range(n_repeats):\n",
    "            # generate data\n",
    "            X_test, y_test, y_train, actual_c = generate_survival_data(\n",
    "                n_samples, hazard_ratio, baseline_hazard=0.1, percentage_cens=cens, rnd=rnd\n",
    "            )\n",
    "\n",
    "            # estimate c-index\n",
    "            c_harrell = concordance_index_censored(y_test[\"event\"], y_test[\"time\"], X_test)\n",
    "            c_uno = concordance_index_ipcw(y_train, y_test, X_test)\n",
    "\n",
    "            # save results\n",
    "            data[\"censoring\"].append(100.0 - y_test[\"event\"].sum() * 100.0 / y_test.shape[0])\n",
    "            data[\"Harrel's C\"].append(actual_c - c_harrell[0])\n",
    "            data[\"Uno's C\"].append(actual_c - c_uno[0])\n",
    "\n",
    "        # aggregate results\n",
    "        for key, values in data.items():\n",
    "            data_mean[key].append(np.mean(data[key]))\n",
    "            data_std[key].append(np.std(data[key], ddof=1))\n",
    "\n",
    "    data_mean = pd.DataFrame.from_dict(data_mean)\n",
    "    data_std = pd.DataFrame.from_dict(data_std)\n",
    "    return data_mean, data_std\n",
    "\n",
    "\n",
    "def plot_results(data_mean, data_std, **kwargs):\n",
    "    index = pd.Index(data_mean[\"censoring\"].round(3), name=\"mean percentage censoring\")\n",
    "    for df in (data_mean, data_std):\n",
    "        df.drop(\"censoring\", axis=1, inplace=True)\n",
    "        df.index = index\n",
    "\n",
    "    ax = data_mean.plot.bar(yerr=data_std, **kwargs)\n",
    "    ax.set_ylabel(\"Actual C - Estimated C\")\n",
    "    ax.yaxis.grid(True)\n",
    "    ax.axhline(0.0, color=\"gray\")"
   ]
  },
  {
   "cell_type": "markdown",
   "metadata": {},
   "source": [
    "Let us assume a moderate hazard ratio of 2 and generate a small synthetic dataset of 100 samples from which we estimate the concordance index. We repeat this experiment 200 times and plot mean and standard deviation of the difference between the *actual* (in the absence of censoring) and *estimated* concordance index.\n",
    "\n",
    "Since the hazard ratio remains constant and only the amount of censoring changes, we would want an estimator for which the difference between the actual and estimated c to remain approximately constant across simulations."
   ]
  },
  {
   "cell_type": "code",
   "execution_count": 3,
   "metadata": {},
   "outputs": [
    {
     "data": {
      "image/png": "[encoded data removed]",
      "text/plain": [
       "<Figure size 518.4x345.6 with 1 Axes>"
      ]
     },
     "metadata": {
      "needs_background": "light"
     },
     "output_type": "display_data"
    }
   ],
   "source": [
    "hazard_ratio = 2.0\n",
    "ylim = [-0.035, 0.035]\n",
    "mean_1, std_1 = simulation(100, hazard_ratio)\n",
    "plot_results(mean_1, std_1, ylim=ylim)"
   ]
  },
  {
   "cell_type": "markdown",
   "metadata": {},
   "source": [
    "We can observe that estimates are on average below the actual value, except for the highest amount of censoring, where Harrell's c begins overestimating the performance (on average).\n",
    "\n",
    "With such a small dataset, the variance of differences is quite big, so let us increase the amount of data to 1000 and repeat the simulation (*this may take some time*)."
   ]
  },
  {
   "cell_type": "code",
   "execution_count": 4,
   "metadata": {},
   "outputs": [
    {
     "data": {
      "image/png": "[encoded data removed]",
      "text/plain": [
       "<Figure size 518.4x345.6 with 1 Axes>"
      ]
     },
     "metadata": {
      "needs_background": "light"
     },
     "output_type": "display_data"
    }
   ],
   "source": [
    "mean_2, std_2 = simulation(1000, hazard_ratio)\n",
    "plot_results(mean_2, std_2, ylim=ylim)"
   ]
  },
  {
   "cell_type": "markdown",
   "metadata": {},
   "source": [
    "Now we can observe that Harrell's c begins to overestimate performance starting with approximately 49% censoring while Uno's c is still underestimating the performance, but is on average very close to the actual performance for large amounts of censoring.\n",
    "\n",
    "For the final experiment, we double the size of the dataset to 2000 samples and repeat the analysis (*this may take several minutes to compute*)."
   ]
  },
  {
   "cell_type": "code",
   "execution_count": 5,
   "metadata": {},
   "outputs": [
    {
     "data": {
      "image/png": "[encoded data removed]",
      "text/plain": [
       "<Figure size 518.4x345.6 with 1 Axes>"
      ]
     },
     "metadata": {
      "needs_background": "light"
     },
     "output_type": "display_data"
    }
   ],
   "source": [
    "mean_3, std_3 = simulation(2000, hazard_ratio)\n",
    "plot_results(mean_3, std_3, ylim=ylim)"
   ]
  },
  {
   "cell_type": "markdown",
   "metadata": {},
   "source": [
    "The trend we observed in the previous simulation is now even more pronounced.\n",
    "Harrell's c is becoming more and more overconfident in the performance of the synthetic marker with increasing amount of censoring, while Uno's c remains stable.\n",
    "\n",
    "In summary, while the difference between [concordance_index_ipcw](https://scikit-survival.readthedocs.io/en/latest/api/generated/sksurv.metrics.concordance_index_ipcw.html#sksurv.metrics.concordance_index_ipcw)\n",
    "and [concordance_index_censored](https://scikit-survival.readthedocs.io/en/latest/api/generated/sksurv.metrics.concordance_index_censored.html#sksurv.metrics.concordance_index_censored) is negligible for small amounts of censoring, when analyzing survival data with moderate to high amounts of censoring, you might want to consider estimating the performance using `concordance_index_ipcw` instead of `concordance_index_censored`."
   ]
  },
  {
   "cell_type": "markdown",
   "metadata": {},
   "source": [
    "## Time-dependent Area under the ROC\n",
    "\n",
    "The area under the [receiver operating characteristics curve](https://en.wikipedia.org/wiki/Receiver_operating_characteristic) (ROC curve) is a popular performance measure for binary classification task. In the medical domain, it is often used to determine how well estimated risk scores can separate diseased patients (cases) from healthy patients (controls). Given a predicted risk score $\\hat{f}$, the ROC curve compares the false positive rate (1 - specificity) against the true positive rate (sensitivity) for each possible value of $\\hat{f}$.\n",
    "\n",
    "When extending the ROC curve to continuous outcomes, in particular survival time, a patient’s disease status is typically not fixed and changes over time: at enrollment a subject is usually healthy, but may be diseased at some later time point. Consequently, sensitivity and specificity become [time-dependent measures](http://dx.doi.org/10.1111/j.0006-341x.2000.00337.x).\n",
    "Here, we consider *cumulative cases* and *dynamic controls* at a given time point $t$, which gives rise to the time-dependent cumulative/dynamic ROC at time $t$.\n",
    "Cumulative cases are all individuals that experienced an event prior to or at time $t$ ($t_i \n",
    "\\leq t$), whereas dynamic controls are those with $t_i>t$.\n",
    "By computing the area under the cumulative/dynamic ROC at time $t$, we can determine how well a model can distinguish subjects who fail by a given time ($t_i \\leq t$) from subjects who fail after this time ($t_i>t$).\n",
    "Hence, it is most relevant if one wants to predict the occurrence of an event in a period up to time $t$ rather than at a specific time point $t$.\n",
    "\n",
    "The [cumulative_dynamic_auc](https://scikit-survival.readthedocs.io/en/latest/api/generated/sksurv.metrics.cumulative_dynamic_auc.html#sksurv.metrics.cumulative_dynamic_auc) function implements an estimator of the cumulative/dynamic area under the ROC at a given list of time points.\n",
    "To illustrate its use, we are going to use data from a [study](https://www.ncbi.nlm.nih.gov/pmc/articles/PMC3538473/) that investigated to which extent the serum immunoglobulin free light chain (FLC) assay can be used predict overall survival. The dataset has 7874 subjects and 9 features; the endpoint is death, which occurred for 2169 subjects (27.5%).\n",
    "\n",
    "First, we are loading the data and split it into train and test set to evaluate how well markers generalize."
   ]
  },
  {
   "cell_type": "code",
   "execution_count": 6,
   "metadata": {},
   "outputs": [],
   "source": [
    "x, y = load_flchain()\n",
    "\n",
    "x_train, x_test, y_train, y_test = train_test_split(x, y, test_size=0.2, random_state=0)"
   ]
  },
  {
   "cell_type": "markdown",
   "metadata": {},
   "source": [
    "Serum creatinine measurements are missing for some patients, therefore we are just going to impute these values with the mean using scikit-learn's `SimpleImputer`."
   ]
  },
  {
   "cell_type": "code",
   "execution_count": 7,
   "metadata": {},
   "outputs": [],
   "source": [
    "num_columns = [\"age\", \"creatinine\", \"kappa\", \"lambda\"]\n",
    "\n",
    "imputer = SimpleImputer().fit(x_train.loc[:, num_columns])\n",
    "x_test_imputed = imputer.transform(x_test.loc[:, num_columns])"
   ]
  },
  {
   "cell_type": "markdown",
   "metadata": {},
   "source": [
    "Similar to Uno's estimator of the concordance index described above, we need to be a little bit careful when selecting the test data and time points we want to evaluate the ROC at, due to the estimator's dependence on inverse probability of censoring weighting.\n",
    "First, we are going to check whether the observed time of the test data lies within the observed time range of the training data."
   ]
  },
  {
   "cell_type": "code",
   "execution_count": 8,
   "metadata": {},
   "outputs": [],
   "source": [
    "y_events = y_train[y_train[\"death\"]]\n",
    "train_min, train_max = y_events[\"futime\"].min(), y_events[\"futime\"].max()\n",
    "\n",
    "y_events = y_test[y_test[\"death\"]]\n",
    "test_min, test_max = y_events[\"futime\"].min(), y_events[\"futime\"].max()\n",
    "\n",
    "assert (\n",
    "    train_min <= test_min < test_max < train_max\n",
    "), \"time range or test data is not within time range of training data.\""
   ]
  },
  {
   "cell_type": "markdown",
   "metadata": {},
   "source": [
    "When choosing the time points to evaluate the ROC at, it is important to remember to choose the last time point such that the probability of being censored after the last time point is non-zero. In the simulation study above, we set the upper bound to the maximum event time, here we use a more conservative approach by setting the upper bound to the 80% percentile of observed time points, because the censoring rate is quite large at 72.5%.\n",
    "Note that this approach would be appropriate for choosing `tau` of  [concordance_index_ipcw](https://scikit-survival.readthedocs.io/en/latest/api/generated/sksurv.metrics.concordance_index_ipcw.html#sksurv.metrics.concordance_index_ipcw) too."
   ]
  },
  {
   "cell_type": "code",
   "execution_count": 9,
   "metadata": {},
   "outputs": [
    {
     "name": "stdout",
     "output_type": "stream",
     "text": [
      "[ 470.3        1259.         1998.         2464.82428571 2979.\n",
      " 3401.         3787.99857143 4051.         4249.         4410.17285714\n",
      " 4543.         4631.         4695.         4781.         4844.        ]\n"
     ]
    }
   ],
   "source": [
    "times = np.percentile(y[\"futime\"], np.linspace(5, 81, 15))\n",
    "print(times)"
   ]
  },
  {
   "cell_type": "markdown",
   "metadata": {},
   "source": [
    "We begin by considering individual real-valued features as risk scores without actually fitting a survival model. Hence, we obtain an estimate of how well *age*, *creatinine*, *kappa* FLC, and *lambda* FLC are able to distinguish cases from controls at each time point."
   ]
  },
  {
   "cell_type": "code",
   "execution_count": 10,
   "metadata": {},
   "outputs": [
    {
     "data": {
      "image/png": "[encoded data removed]",
      "text/plain": [
       "<Figure size 518.4x345.6 with 1 Axes>"
      ]
     },
     "metadata": {
      "needs_background": "light"
     },
     "output_type": "display_data"
    }
   ],
   "source": [
    "def plot_cumulative_dynamic_auc(risk_score, label, color=None):\n",
    "    auc, mean_auc = cumulative_dynamic_auc(y_train, y_test, risk_score, times)\n",
    "\n",
    "    plt.plot(times, auc, marker=\"o\", color=color, label=label)\n",
    "    plt.xlabel(\"days from enrollment\")\n",
    "    plt.ylabel(\"time-dependent AUC\")\n",
    "    plt.axhline(mean_auc, color=color, linestyle=\"--\")\n",
    "    plt.legend()\n",
    "\n",
    "\n",
    "for i, col in enumerate(num_columns):\n",
    "    plot_cumulative_dynamic_auc(x_test_imputed[:, i], col, color=f\"C{i}\")\n",
    "    ret = concordance_index_ipcw(y_train, y_test, x_test_imputed[:, i], tau=times[-1])"
   ]
  },
  {
   "cell_type": "markdown",
   "metadata": {},
   "source": [
    "The plot shows the estimated area under the time-dependent ROC at each time point and the average across all time points as dashed line.\n",
    "\n",
    "We can see that age is overall the most discriminative feature, followed by $\\kappa$ and $\\lambda$ FLC. That fact that age is the strongest predictor of overall survival in the general population is hardly surprising (we have to die at some point after all). \n",
    "More differences become evident when considering time: the discriminative power of FLC decreases at later time points, while that of age increases. The observation for age again follows common sense. In contrast, FLC seems to be a good predictor of death in the near future, but not so much if it occurs decades later.\n",
    "\n",
    "### Evaluating a Model's Predictions\n",
    "\n",
    "Most of the time, we do not want to evaluate the discriminatory power of individual features, but how a predictive model performs, based on many features. To demonstrate this, we will fit a survival model to predict the risk of death from the [Veterans' Administration Lung Cancer Trial](https://scikit-survival.readthedocs.io/en/latest/api/generated/sksurv.datasets.load_veterans_lung_cancer.html#sksurv.datasets.load_veterans_lung_cancer).\n",
    "\n",
    "First, we split the data into 80% for training and 20% for testing and use the `stratify` option to ensure\n",
    "that we do not end up with test data only containing censored death times."
   ]
  },
  {
   "cell_type": "code",
   "execution_count": 11,
   "metadata": {},
   "outputs": [],
   "source": [
    "from sksurv.datasets import load_veterans_lung_cancer\n",
    "\n",
    "va_x, va_y = load_veterans_lung_cancer()\n",
    "\n",
    "va_x_train, va_x_test, va_y_train, va_y_test = train_test_split(\n",
    "    va_x, va_y, test_size=0.2, stratify=va_y[\"Status\"], random_state=0\n",
    ")"
   ]
  },
  {
   "cell_type": "markdown",
   "metadata": {},
   "source": [
    "Next, we fit a Cox proportional hazards model to the training data."
   ]
  },
  {
   "cell_type": "code",
   "execution_count": 12,
   "metadata": {},
   "outputs": [
    {
     "data": {
      "text/plain": [
       "Pipeline(steps=[('onehotencoder', OneHotEncoder()),\n",
       "                ('coxphsurvivalanalysis', CoxPHSurvivalAnalysis())])"
      ]
     },
     "execution_count": 12,
     "metadata": {},
     "output_type": "execute_result"
    }
   ],
   "source": [
    "cph = make_pipeline(OneHotEncoder(), CoxPHSurvivalAnalysis())\n",
    "cph.fit(va_x_train, va_y_train)"
   ]
  },
  {
   "cell_type": "markdown",
   "metadata": {},
   "source": [
    "Using the test data, we want to assess how well the model can distinguish survivors from deceased in weekly intervals, up to 6 months after enrollment."
   ]
  },
  {
   "cell_type": "code",
   "execution_count": 13,
   "metadata": {},
   "outputs": [
    {
     "data": {
      "image/png": "[encoded data removed]",
      "text/plain": [
       "<Figure size 518.4x345.6 with 1 Axes>"
      ]
     },
     "metadata": {
      "needs_background": "light"
     },
     "output_type": "display_data"
    }
   ],
   "source": [
    "va_times = np.arange(8, 184, 7)\n",
    "cph_risk_scores = cph.predict(va_x_test)\n",
    "cph_auc, cph_mean_auc = cumulative_dynamic_auc(va_y_train, va_y_test, cph_risk_scores, va_times)\n",
    "\n",
    "plt.plot(va_times, cph_auc, marker=\"o\")\n",
    "plt.axhline(cph_mean_auc, linestyle=\"--\")\n",
    "plt.xlabel(\"days from enrollment\")\n",
    "plt.ylabel(\"time-dependent AUC\")\n",
    "plt.grid(True)"
   ]
  },
  {
   "cell_type": "markdown",
   "metadata": {},
   "source": [
    "The plot shows that the model is doing moderately well on average with an AUC of ~0.72 (dashed line). However, there is a clear difference in performance between the first and second half of the time range. The performance on the test data increases up to 56 days from enrollment, remains high until 98 days and quickly drops thereafter. Thus, we can conclude that the model is most effective in predicting death in the medium-term.\n",
    "\n",
    "### Using Time-dependent Risk Scores\n",
    "\n",
    "The downside of Cox proportional hazards model is that it can only predict a risk score that is independent of time (due to the built-in proportional hazards assumption). Therefore, a single predicted risk score needs to work well for *every* time point. In contrast, a Random Survival Forest does not have this restriction. So let's fit such a model to the training data."
   ]
  },
  {
   "cell_type": "code",
   "execution_count": 14,
   "metadata": {},
   "outputs": [
    {
     "data": {
      "text/plain": [
       "Pipeline(steps=[('onehotencoder', OneHotEncoder()),\n",
       "                ('randomsurvivalforest',\n",
       "                 RandomSurvivalForest(min_samples_leaf=7, random_state=0))])"
      ]
     },
     "execution_count": 14,
     "metadata": {},
     "output_type": "execute_result"
    }
   ],
   "source": [
    "from sksurv.ensemble import RandomSurvivalForest\n",
    "\n",
    "rsf = make_pipeline(OneHotEncoder(), RandomSurvivalForest(n_estimators=100, min_samples_leaf=7, random_state=0))\n",
    "rsf.fit(va_x_train, va_y_train)"
   ]
  },
  {
   "cell_type": "markdown",
   "metadata": {},
   "source": [
    "For prediction, we do not call [predict](https://scikit-survival.readthedocs.io/en/latest/api/generated/sksurv.ensemble.RandomSurvivalForest.html#sksurv.ensemble.RandomSurvivalForest.predict), which returns a time-independent risk score, but call [predict_cumulative_hazard_function](https://scikit-survival.readthedocs.io/en/latest/api/generated/sksurv.ensemble.RandomSurvivalForest.html#sksurv.ensemble.RandomSurvivalForest.predict_cumulative_hazard_function), which returns a risk function over time for each patient. We obtain the time-dependent risk scores by evaluating each cumulative hazard function at the time points we are interested in."
   ]
  },
  {
   "cell_type": "code",
   "execution_count": 15,
   "metadata": {},
   "outputs": [],
   "source": [
    "rsf_chf_funcs = rsf.predict_cumulative_hazard_function(va_x_test, return_array=False)\n",
    "rsf_risk_scores = np.vstack([chf(va_times) for chf in rsf_chf_funcs])\n",
    "\n",
    "rsf_auc, rsf_mean_auc = cumulative_dynamic_auc(va_y_train, va_y_test, rsf_risk_scores, va_times)"
   ]
  },
  {
   "cell_type": "markdown",
   "metadata": {},
   "source": [
    "Now, we can compare the result with the predictive performance of the Cox proportional hazards model from above."
   ]
  },
  {
   "cell_type": "code",
   "execution_count": 16,
   "metadata": {},
   "outputs": [
    {
     "data": {
      "image/png": "[encoded data removed]",
      "text/plain": [
       "<Figure size 518.4x345.6 with 1 Axes>"
      ]
     },
     "metadata": {},
     "output_type": "display_data"
    }
   ],
   "source": [
    "plt.plot(va_times, cph_auc, \"o-\", label=f\"CoxPH (mean AUC = {cph_mean_auc:.3f})\")\n",
    "plt.plot(va_times, rsf_auc, \"o-\", label=f\"RSF (mean AUC = {rsf_mean_auc:.3f})\")\n",
    "plt.xlabel(\"days from enrollment\")\n",
    "plt.ylabel(\"time-dependent AUC\")\n",
    "plt.legend(loc=\"lower center\")\n",
    "plt.grid(True)"
   ]
  },
  {
   "cell_type": "markdown",
   "metadata": {},
   "source": [
    "Indeed, the Random Survival Forest performs slightly better on average, mostly due to the better performance in the intervals 25–50 days, and 112–147 days. Above 147 days, it actually is doing worse. This shows that the mean AUC is convenient to assess overall performance, but it can hide interesting characteristics that only become visible when looking at the AUC at individual time points.\n",
    "\n",
    "## Time-dependent Brier Score\n",
    "\n",
    "The time-dependent Brier score is an extension of the mean squared\n",
    "error to [right censored data](https://scikit-survival.readthedocs.io/en/latest/user_guide/understanding_predictions.html#what-is-survival-analysis). Given a time point $t$, it is defined as:\n",
    "\n",
    "$$\n",
    "\\mathrm{BS}^c(t) = \\frac{1}{n} \\sum_{i=1}^n I(y_i \\leq t \\land \\delta_i = 1)\n",
    "        \\frac{(0 - \\hat{\\pi}(t | \\mathbf{x}_i))^2}{\\hat{G}(y_i)} + I(y_i > t)\n",
    "        \\frac{(1 - \\hat{\\pi}(t | \\mathbf{x}_i))^2}{\\hat{G}(t)} ,\n",
    "$$\n",
    "\n",
    "where $\\hat{\\pi}(t | \\mathbf{x})$ is a model's predicted probability of\n",
    "remaining event-free up to time point $t$ for feature vector $\\mathbf{x}$, and $1/\\hat{G}(t)$ is an inverse probability of censoring weight.\n",
    "\n",
    "*Note that the time-dependent Brier score is only\n",
    "applicable for models that are able to estimate a survival function.\n",
    "For instance, it cannot be used with* [Survival Support Vector Machines](https://scikit-survival.readthedocs.io/en/latest/api/svm.html#survival-support-vector-machine).\n",
    "\n",
    "The Brier score is often used to assess calibration.\n",
    "If a model predicts a 10% risk of experiencing an\n",
    "event at time $t$, the observed frequency in the data\n",
    "should match this percentage for a well calibrated model.\n",
    "In addition, the Brier score is also a measure of\n",
    "discrimination: whether a model is able to predict risk scores\n",
    "that allow us to correctly determine the order of events.\n",
    "The concordance index is probably the most common measure\n",
    "of discrimination. However, the concordance index disregards\n",
    "the actual values of predicted risk scores\n",
    "– it is a ranking metric –\n",
    "and is unable to tell us anything about calibration.\n",
    "\n",
    "Let's consider an example based on data from the\n",
    "[German Breast Cancer Study Group 2](http://ascopubs.org/doi/abs/10.1200/jco.1994.12.10.2086)."
   ]
  },
  {
   "cell_type": "code",
   "execution_count": 17,
   "metadata": {},
   "outputs": [],
   "source": [
    "gbsg_X, gbsg_y = load_gbsg2()\n",
    "gbsg_X = encode_categorical(gbsg_X)\n",
    "\n",
    "gbsg_X_train, gbsg_X_test, gbsg_y_train, gbsg_y_test = train_test_split(\n",
    "    gbsg_X, gbsg_y, stratify=gbsg_y[\"cens\"], random_state=1\n",
    ")"
   ]
  },
  {
   "cell_type": "markdown",
   "metadata": {},
   "source": [
    "We want to train a model on the training data and assess\n",
    "its discrimination and calibration on the test data.\n",
    "Here, we consider a [Random Survival Forest](https://scikit-survival.readthedocs.io/en/latest/api/generated/sksurv.ensemble.RandomSurvivalForest.html#sksurv.ensemble.RandomSurvivalForest)\n",
    "and [Cox's proportional hazards model with elastic-net penalty](https://scikit-survival.readthedocs.io/en/latest/api/generated/sksurv.linear_model.CoxnetSurvivalAnalysis.html#sksurv.linear_model.CoxnetSurvivalAnalysisl)."
   ]
  },
  {
   "cell_type": "code",
   "execution_count": 18,
   "metadata": {},
   "outputs": [
    {
     "data": {
      "text/plain": [
       "CoxnetSurvivalAnalysis(fit_baseline_model=True, l1_ratio=0.99)"
      ]
     },
     "execution_count": 18,
     "metadata": {},
     "output_type": "execute_result"
    }
   ],
   "source": [
    "rsf_gbsg = RandomSurvivalForest(max_depth=2, random_state=1)\n",
    "rsf_gbsg.fit(gbsg_X_train, gbsg_y_train)\n",
    "\n",
    "cph_gbsg = CoxnetSurvivalAnalysis(l1_ratio=0.99, fit_baseline_model=True)\n",
    "cph_gbsg.fit(gbsg_X_train, gbsg_y_train)"
   ]
  },
  {
   "cell_type": "markdown",
   "metadata": {},
   "source": [
    "First, let's start with discrimination as measured by the\n",
    "concordance index."
   ]
  },
  {
   "cell_type": "code",
   "execution_count": 19,
   "metadata": {},
   "outputs": [
    {
     "data": {
      "text/plain": [
       "RSF       0.692\n",
       "CPH       0.688\n",
       "Random    0.500\n",
       "Name: c-index, dtype: float64"
      ]
     },
     "execution_count": 19,
     "metadata": {},
     "output_type": "execute_result"
    }
   ],
   "source": [
    "score_cindex = pd.Series(\n",
    "    [\n",
    "        rsf_gbsg.score(gbsg_X_test, gbsg_y_test),\n",
    "        cph_gbsg.score(gbsg_X_test, gbsg_y_test),\n",
    "        0.5,\n",
    "    ],\n",
    "    index=[\"RSF\", \"CPH\", \"Random\"],\n",
    "    name=\"c-index\",\n",
    ")\n",
    "\n",
    "score_cindex.round(3)"
   ]
  },
  {
   "cell_type": "markdown",
   "metadata": {},
   "source": [
    "The result indicates that both models perform almost equally well\n",
    "with Cox's proportional hazards model achieving a concordance index of 0.688\n",
    "and Random Survival Forest of 0.692, both of which are significantly\n",
    "better than a random model with 0.5 concordance index.\n",
    "Unfortunately, it doesn't help us to decide which model we should\n",
    "choose. So let's consider the time-dependent Brier score\n",
    "as an alternative, which asses discrimination *and* calibration.\n",
    "\n",
    "We first need to determine for which time points\n",
    "$t$ we want to compute the Brier score for. We are going to use a data-driven\n",
    "approach here by selecting all time points between the 10% and 90%\n",
    "percentile of observed time points.\n"
   ]
  },
  {
   "cell_type": "code",
   "execution_count": 20,
   "metadata": {},
   "outputs": [],
   "source": [
    "lower, upper = np.percentile(gbsg_y[\"time\"], [10, 90])\n",
    "gbsg_times = np.arange(lower, upper + 1)"
   ]
  },
  {
   "cell_type": "markdown",
   "metadata": {},
   "source": [
    "This returns 1690 time points, for which we need to estimate the\n",
    "probability of survival for, which is given by the survival function.\n",
    "Thus, we iterate over the predicted survival functions on the test data\n",
    "and evaluate each at the time points from above."
   ]
  },
  {
   "cell_type": "code",
   "execution_count": 21,
   "metadata": {},
   "outputs": [],
   "source": [
    "rsf_surv_prob = np.vstack([fn(gbsg_times) for fn in rsf_gbsg.predict_survival_function(gbsg_X_test)])\n",
    "cph_surv_prob = np.vstack([fn(gbsg_times) for fn in cph_gbsg.predict_survival_function(gbsg_X_test)])"
   ]
  },
  {
   "cell_type": "markdown",
   "metadata": {},
   "source": [
    "In addition, we want to have a baseline to tell us how much better\n",
    "our models are from random. A random model would simply predict 0.5\n",
    "every time."
   ]
  },
  {
   "cell_type": "code",
   "execution_count": 22,
   "metadata": {},
   "outputs": [],
   "source": [
    "random_surv_prob = 0.5 * np.ones((gbsg_y_test.shape[0], gbsg_times.shape[0]))"
   ]
  },
  {
   "cell_type": "markdown",
   "metadata": {},
   "source": [
    "Another useful reference is the Kaplan-Meier estimator that does not consider\n",
    "any features: it estimates a survival function only from `gbsg_y_test`.\n",
    "We replicate this estimate for all samples in the test data."
   ]
  },
  {
   "cell_type": "code",
   "execution_count": 23,
   "metadata": {},
   "outputs": [],
   "source": [
    "km_func = StepFunction(*kaplan_meier_estimator(gbsg_y_test[\"cens\"], gbsg_y_test[\"time\"]))\n",
    "km_surv_prob = np.tile(km_func(gbsg_times), (gbsg_y_test.shape[0], 1))"
   ]
  },
  {
   "cell_type": "markdown",
   "metadata": {},
   "source": [
    "Instead of comparing calibration across all 1690 time points, we'll be\n",
    "using the\n",
    "[integrated Brier score](https://scikit-survival.readthedocs.io/en/latest/api/generated/sksurv.metrics.integrated_brier_score.html#sksurv.metrics.integrated_brier_score)\n",
    "(IBS) over all time points, which will\n",
    "give us a single number to compare the models by.\n"
   ]
  },
  {
   "cell_type": "code",
   "execution_count": 24,
   "metadata": {},
   "outputs": [
    {
     "data": {
      "text/html": [
       "<div>\n",
       "<style scoped>\n",
       "    .dataframe tbody tr th:only-of-type {\n",
       "        vertical-align: middle;\n",
       "    }\n",
       "\n",
       "    .dataframe tbody tr th {\n",
       "        vertical-align: top;\n",
       "    }\n",
       "\n",
       "    .dataframe thead th {\n",
       "        text-align: right;\n",
       "    }\n",
       "</style>\n",
       "<table border=\"1\" class=\"dataframe\">\n",
       "  <thead>\n",
       "    <tr style=\"text-align: right;\">\n",
       "      <th></th>\n",
       "      <th>c-index</th>\n",
       "      <th>IBS</th>\n",
       "    </tr>\n",
       "  </thead>\n",
       "  <tbody>\n",
       "    <tr>\n",
       "      <th>RSF</th>\n",
       "      <td>0.692</td>\n",
       "      <td>0.192</td>\n",
       "    </tr>\n",
       "    <tr>\n",
       "      <th>CPH</th>\n",
       "      <td>0.688</td>\n",
       "      <td>0.189</td>\n",
       "    </tr>\n",
       "    <tr>\n",
       "      <th>Random</th>\n",
       "      <td>0.500</td>\n",
       "      <td>0.247</td>\n",
       "    </tr>\n",
       "    <tr>\n",
       "      <th>Kaplan-Meier</th>\n",
       "      <td>NaN</td>\n",
       "      <td>0.217</td>\n",
       "    </tr>\n",
       "  </tbody>\n",
       "</table>\n",
       "</div>"
      ],
      "text/plain": [
       "              c-index    IBS\n",
       "RSF             0.692  0.192\n",
       "CPH             0.688  0.189\n",
       "Random          0.500  0.247\n",
       "Kaplan-Meier      NaN  0.217"
      ]
     },
     "execution_count": 24,
     "metadata": {},
     "output_type": "execute_result"
    }
   ],
   "source": [
    "score_brier = pd.Series(\n",
    "    [\n",
    "        integrated_brier_score(gbsg_y, gbsg_y_test, prob, gbsg_times)\n",
    "        for prob in (rsf_surv_prob, cph_surv_prob, random_surv_prob, km_surv_prob)\n",
    "    ],\n",
    "    index=[\"RSF\", \"CPH\", \"Random\", \"Kaplan-Meier\"],\n",
    "    name=\"IBS\",\n",
    ")\n",
    "\n",
    "pd.concat((score_cindex, score_brier), axis=1).round(3)"
   ]
  },
  {
   "cell_type": "markdown",
   "metadata": {},
   "source": [
    "Despite Random Survival Forest and Cox's proportional hazards model\n",
    "performing equally well in terms of discrimination (c-index), there seems to be\n",
    "a notable difference in terms of calibration (IBS), with\n",
    "Cox's proportional hazards model outperforming Random Survival Forest."
   ]
  },
  {
   "cell_type": "markdown",
   "metadata": {},
   "source": [
    "## Using Metrics in Hyper-parameter Search\n",
    "\n",
    "Usually, estimators have hyper-parameters that one wants to optimize. For example, the maximum tree depth for tree-based learners. For this purpose, we can use scikit-learn's [GridSearchCV](https://scikit-learn.org/stable/modules/generated/sklearn.model_selection.GridSearchCV.html#sklearn.model_selection.GridSearchCV) to search for the hyper-parameter configuration that on average works best. By default, estimators' performance will be evaluated in terms of Harrell's concordance index, as implemented in [concordance_index_censored](https://scikit-survival.readthedocs.io/en/latest/api/generated/sksurv.metrics.concordance_index_censored.html#sksurv.metrics.concordance_index_censored).\n",
    "For other metrics, one can wrap an estimator with one of the following classes:\n",
    "\n",
    "- [as_concordance_index_ipcw_scorer](https://scikit-survival.readthedocs.io/en/latest/api/generated/sksurv.metrics.as_concordance_index_ipcw_scorer.html#sksurv.metrics.as_concordance_index_ipcw_scorer)\n",
    "- [as_cumulative_dynamic_auc_scorer](https://scikit-survival.readthedocs.io/en/latest/api/generated/sksurv.metrics.as_cumulative_dynamic_auc_scorer.html#sksurv.metrics.as_cumulative_dynamic_auc_scorer)\n",
    "- [as_integrated_brier_score_scorer](https://scikit-survival.readthedocs.io/en/latest/api/generated/sksurv.metrics.as_integrated_brier_score_scorer.html#sksurv.metrics.as_integrated_brier_score_scorer)"
   ]
  },
  {
   "cell_type": "code",
   "execution_count": 25,
   "metadata": {},
   "outputs": [],
   "source": [
    "from sklearn.model_selection import GridSearchCV, KFold\n",
    "\n",
    "from sksurv.metrics import (\n",
    "    as_concordance_index_ipcw_scorer,\n",
    "    as_cumulative_dynamic_auc_scorer,\n",
    "    as_integrated_brier_score_scorer,\n",
    ")"
   ]
  },
  {
   "cell_type": "markdown",
   "metadata": {},
   "source": [
    "To illustrate this, we are going to use the Random Survival Forest and the\n",
    "[German Breast Cancer Study Group 2](http://ascopubs.org/doi/abs/10.1200/jco.1994.12.10.2086) from above.\n",
    "\n",
    "First, we define that we want to evaluate the performance of each hyper-parameter configuration by 3-fold cross-validation."
   ]
  },
  {
   "cell_type": "code",
   "execution_count": 26,
   "metadata": {},
   "outputs": [],
   "source": [
    "cv = KFold(n_splits=3, shuffle=True, random_state=1)"
   ]
  },
  {
   "cell_type": "markdown",
   "metadata": {},
   "source": [
    "Next, we define the set of hyper-parameters to evaluate. Here, we search for the best value for ``max_depth`` between 1 and 10 (excluding). Note that we have to prefix ``max_depth`` with ``estimator__``, because we are going to wrap the actual ``RandomSurvivalForest`` instance with one of the classes above."
   ]
  },
  {
   "cell_type": "code",
   "execution_count": 27,
   "metadata": {},
   "outputs": [],
   "source": [
    "cv_param_grid = {\n",
    "    \"estimator__max_depth\": np.arange(1, 10, dtype=int),\n",
    "}"
   ]
  },
  {
   "cell_type": "markdown",
   "metadata": {},
   "source": [
    "Now, we can put all the pieces together and start searching for the best hyper-parameters that maximize [concordance_index_ipcw](https://scikit-survival.readthedocs.io/en/latest/api/generated/sksurv.metrics.concordance_index_ipcw.html#sksurv.metrics.concordance_index_ipcw)."
   ]
  },
  {
   "cell_type": "code",
   "execution_count": 28,
   "metadata": {},
   "outputs": [],
   "source": [
    "gcv_cindex = GridSearchCV(\n",
    "    as_concordance_index_ipcw_scorer(rsf_gbsg, tau=gbsg_times[-1]),\n",
    "    param_grid=cv_param_grid,\n",
    "    cv=cv,\n",
    ").fit(gbsg_X, gbsg_y)"
   ]
  },
  {
   "cell_type": "markdown",
   "metadata": {},
   "source": [
    "The same process applies when optimizing hyper-parameters to maximize\n",
    "[cumulative_dynamic_auc](https://scikit-survival.readthedocs.io/en/latest/api/generated/sksurv.metrics.cumulative_dynamic_auc.html#sksurv.metrics.cumulative_dynamic_auc)."
   ]
  },
  {
   "cell_type": "code",
   "execution_count": 29,
   "metadata": {},
   "outputs": [],
   "source": [
    "gcv_iauc = GridSearchCV(\n",
    "    as_cumulative_dynamic_auc_scorer(rsf_gbsg, times=gbsg_times),\n",
    "    param_grid=cv_param_grid,\n",
    "    cv=cv,\n",
    ").fit(gbsg_X, gbsg_y)"
   ]
  },
  {
   "cell_type": "markdown",
   "metadata": {},
   "source": [
    "While [as_concordance_index_ipcw_scorer](https://scikit-survival.readthedocs.io/en/latest/api/generated/sksurv.metrics.as_concordance_index_ipcw_scorer.html#sksurv.metrics.as_concordance_index_ipcw_scorer)\n",
    "and [as_cumulative_dynamic_auc_scorer](https://scikit-survival.readthedocs.io/en/latest/api/generated/sksurv.metrics.as_cumulative_dynamic_auc_scorer.html#sksurv.metrics.as_cumulative_dynamic_auc_scorer)\n",
    "can be used with any estimator,\n",
    "[as_integrated_brier_score_scorer](https://scikit-survival.readthedocs.io/en/latest/api/generated/sksurv.metrics.as_integrated_brier_score_scorer.html#sksurv.metrics.as_integrated_brier_score_scorer) is only available for estimators that provide the ``predict_survival_function`` method, which includes ``RandomSurvivalForest``. If available, hyper-parameters that maximize the **negative** integrated time-dependent Brier score will be selected, because a lower Brier score indicates better performance."
   ]
  },
  {
   "cell_type": "code",
   "execution_count": 30,
   "metadata": {},
   "outputs": [],
   "source": [
    "gcv_ibs = GridSearchCV(\n",
    "    as_integrated_brier_score_scorer(rsf_gbsg, times=gbsg_times),\n",
    "    param_grid=cv_param_grid,\n",
    "    cv=cv,\n",
    ").fit(gbsg_X, gbsg_y)"
   ]
  },
  {
   "cell_type": "markdown",
   "metadata": {},
   "source": [
    "Finally, we can visualize the results of the grid search and compare the best performing hyper-parameter configurations (marked with a red dot)."
   ]
  },
  {
   "cell_type": "code",
   "execution_count": 31,
   "metadata": {},
   "outputs": [
    {
     "data": {
      "image/png": "[encoded data removed]",
      "text/plain": [
       "<Figure size 432x432 with 3 Axes>"
      ]
     },
     "metadata": {},
     "output_type": "display_data"
    }
   ],
   "source": [
    "def plot_grid_search_results(gcv, ax, name):\n",
    "    ax.errorbar(\n",
    "        x=gcv.cv_results_[\"param_estimator__max_depth\"].filled(),\n",
    "        y=gcv.cv_results_[\"mean_test_score\"],\n",
    "        yerr=gcv.cv_results_[\"std_test_score\"],\n",
    "    )\n",
    "    ax.plot(\n",
    "        gcv.best_params_[\"estimator__max_depth\"],\n",
    "        gcv.best_score_,\n",
    "        \"ro\",\n",
    "    )\n",
    "    ax.set_ylabel(name)\n",
    "    ax.yaxis.grid(True)\n",
    "\n",
    "\n",
    "_, axs = plt.subplots(3, 1, figsize=(6, 6), sharex=True)\n",
    "axs[-1].set_xlabel(\"max_depth\")\n",
    "\n",
    "plot_grid_search_results(gcv_cindex, axs[0], \"c-index\")\n",
    "plot_grid_search_results(gcv_iauc, axs[1], \"iAUC\")\n",
    "plot_grid_search_results(gcv_ibs, axs[2], \"$-$IBS\")"
   ]
  },
  {
   "cell_type": "markdown",
   "metadata": {},
   "source": [
    "When optimizing for the concordance index, a high maximum depth works best, whereas the other metrics are best when choosing a maximum depth of 5 and 8, respectively."
   ]
  },
  {
   "cell_type": "markdown",
   "metadata": {},
   "source": [
    "## Conclusion\n",
    "\n",
    "I hope this notebook helped you to understand some of the pitfalls when estimating the performance of markers and models from right-censored survival data. We illustrated that [Harrell's estimator](https://scikit-survival.readthedocs.io/en/latest/api/generated/sksurv.metrics.concordance_index_censored.html#sksurv.metrics.concordance_index_censored) of the concordance index is biased when the amount of censoring is high, and that [Uno's estimator](https://scikit-survival.readthedocs.io/en/latest/api/generated/sksurv.metrics.concordance_index_ipcw.html#sksurv.metrics.concordance_index_ipcw) is more appropriate in this situation. Finally, we demonstrated that the [time-dependent area under the ROC](https://scikit-survival.readthedocs.io/en/latest/api/generated/sksurv.metrics.cumulative_dynamic_auc.html#sksurv.metrics.cumulative_dynamic_auc) is a very useful tool when we want to predict the occurrence of an event in a period up to time $t$ rather than at a specific time point $t$. Finally, the [integrated time-dependent Brier score](https://scikit-survival.readthedocs.io/en/latest/api/generated/sksurv.metrics.integrated_brier_score.html#sksurv.metrics.integrated_brier_score) is an extension of the mean squared error that can measure discrimination *and* calibration."
   ]
  }
 ],
 "metadata": {
  "kernelspec": {
   "display_name": "Python 3 (ipykernel)",
   "language": "python",
   "name": "python3"
  },
  "language_info": {
   "codemirror_mode": {
    "name": "ipython",
    "version": 3
   },
   "file_extension": ".py",
   "mimetype": "text/x-python",
   "name": "python",
   "nbconvert_exporter": "python",
   "pygments_lexer": "ipython3",
   "version": "3.13.5"
  }
 },
 "nbformat": 4,
 "nbformat_minor": 4
}
